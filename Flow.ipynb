{
  "nbformat": 4,
  "nbformat_minor": 0,
  "metadata": {
    "colab": {
      "provenance": [],
      "collapsed_sections": []
    },
    "kernelspec": {
      "name": "python3",
      "display_name": "Python 3"
    },
    "language_info": {
      "name": "python"
    }
  },
  "cells": [
    {
      "cell_type": "code",
      "execution_count": null,
      "metadata": {
        "id": "KlSEESPHjF8Q"
      },
      "outputs": [],
      "source": [
        "import numpy as np\n",
        "import matplotlib.pyplot as plt\n",
        "\n",
        "N = 100\n",
        "Lx = 2e-3\n",
        "Ly = 2e-3\n",
        "Ls = 0.5e-3\n",
        "Lc = 0.5e-3\n",
        "Us = 1\n",
        "Ts = 300\n",
        "Uc = 0.2\n",
        "Uc = 300\n",
        "T0 = 300\n",
        "\n",
        "rho = 1.1614\n",
        "nu = 15e-6\n",
        "\n",
        "dx = Lx/N\n",
        "dy = Ly/N\n",
        "\n",
        "ux = np.zeros((N, N))\n",
        "uy = np.zeros((N, N))\n",
        "T = T0*np.ones((N, N))\n",
        "P = np.zeros((N, N))\n",
        "\n",
        "p1 = np.int(Ls//dx)\n",
        "p2 = np.int((Ls + Lc)//dx)\n",
        "\n",
        "for x in range(p1):\n",
        "    uy[x, 0] = Us\n",
        "    uy[x, -1] = -Us\n",
        "    \n",
        "for x in range(p2):\n",
        "    uy[x + p1, 0] = Uc\n",
        "    uy[x + p1, -1] = -Uc"
      ]
    },
    {
      "cell_type": "code",
      "source": [
        "def Lapl(u, d):\n",
        "    N = u.shape[0]\n",
        "    Lap = np.zeros((N, N))\n",
        "    for i in range(N-2):\n",
        "        for j in range(N-2):\n",
        "            Lap[i+1, j+1] = (u[i,j+1]+u[i+2,j+1]+u[i+1,j]+u[i+1,j+2]-4*u[i+1,j+1])/d**2\n",
        "    return Lap\n",
        "\n",
        "def Lapl(u, d):\n",
        "    N = u.shape[0]\n",
        "    Lap = np.zeros((N, N))\n",
        "    for i in range(N-2):\n",
        "        for j in range(N-2):\n",
        "            Lap[i+1, j+1] = (u[i,j+1]+u[i+2,j+1]+u[i+1,j]+u[i+1,j+2]-4*u[i+1,j+1])/d**2\n",
        "    return Lap\n",
        "\n",
        "def ddy(u, d):\n",
        "    N = u.shape[0]\n",
        "    de = np.zeros((N, N))\n",
        "    for i in range(N-2):\n",
        "        for j in range(N-2):\n",
        "            de[i+1, j+1] = (u[i+1,j+2]-u[i+1,j])/d/2\n",
        "    return de\n",
        "\n",
        "def ddx(u, d):\n",
        "    N = u.shape[0]\n",
        "    de = np.zeros((N, N))\n",
        "    for i in range(N-2):\n",
        "        for j in range(N-2):\n",
        "            de[i+1, j+1] = (u[i+2,j+1]-u[i,j+1])/d/2\n",
        "    return de\n",
        "\n",
        "def findP(P, ux2, uy2, d)"
      ],
      "metadata": {
        "id": "lYIZxjv_jk0S"
      },
      "execution_count": null,
      "outputs": []
    },
    {
      "cell_type": "code",
      "source": [
        "dt = 0.01*dx/1\n",
        "def update(ux,uy):\n",
        "  ux1 = ux\n",
        "  ux2 = ux\n",
        "  uy1 = uy\n",
        "  uy2 = uy\n",
        "\n",
        "  ux1 = ux - dt*(ux * ddx(ux,dx) - uy * ddy(ux,dy))\n",
        "  uy1 = uy - dt*(ux * ddx(uy,dx) - uy * ddy(uy,dy))\n",
        "  uy1[0,:] = uy1[1,:]\n",
        "  uy1[-1,:] = uy1[-2,:]\n",
        "  ux1[-1,:] = ux1[-2,:]\n",
        "\n",
        "  ux2 = ux1 + dt*nu* lapl(ux1,dx)\n",
        "  uy2 = uy1 + dt*nu* lapl(uy1,dx)\n",
        "  uy2[0,:] = uy2[1,:]\n",
        "  uy2[-1,:] = uy2[-2,:]\n",
        "  ux2[-1,:] = ux2[-2,:] "
      ],
      "metadata": {
        "id": "u2vykYcMjwqr"
      },
      "execution_count": null,
      "outputs": []
    }
  ]
}